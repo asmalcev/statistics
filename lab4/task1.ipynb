{
 "cells": [
  {
   "cell_type": "markdown",
   "metadata": {},
   "source": [
    "# Точечные и интервальные оценки экспоненциального распределения"
   ]
  },
  {
   "cell_type": "code",
   "execution_count": 52,
   "metadata": {},
   "outputs": [],
   "source": [
    "import numpy as np\n",
    "import matplotlib.pyplot as plt\n",
    "from scipy.stats import expon\n",
    "%matplotlib inline \n",
    "\n",
    "\n",
    "SIZE = 100\n",
    "SCALE = 5\n",
    "LOC = 2\n",
    "\n",
    "B = 0.95\n",
    "\n",
    "\n",
    "dist = LOC + np.random.exponential(scale=SCALE, size=100)"
   ]
  },
  {
   "cell_type": "code",
   "execution_count": 54,
   "metadata": {},
   "outputs": [
    {
     "data": {
      "image/png": "[encoded data removed]",
      "text/plain": [
       "<Figure size 432x288 with 1 Axes>"
      ]
     },
     "metadata": {
      "needs_background": "light"
     },
     "output_type": "display_data"
    },
    {
     "name": "stdout",
     "output_type": "stream",
     "text": [
      "(2.0126037153434866, 5.0217284934176085)\n"
     ]
    }
   ],
   "source": [
    "plt.hist(dist)\n",
    "plt.show()\n",
    "\n",
    "print(expon.fit(dist))"
   ]
  }
 ],
 "metadata": {
  "interpreter": {
   "hash": "285a8aba9e28511143ba2906ccaf41ea988f11f9c3887cfdbaf10fce846c0e9f"
  },
  "kernelspec": {
   "display_name": "Python 3.8.10 ('env': venv)",
   "language": "python",
   "name": "python3"
  },
  "language_info": {
   "codemirror_mode": {
    "name": "ipython",
    "version": 3
   },
   "file_extension": ".py",
   "mimetype": "text/x-python",
   "name": "python",
   "nbconvert_exporter": "python",
   "pygments_lexer": "ipython3",
   "version": "3.8.10"
  },
  "orig_nbformat": 4
 },
 "nbformat": 4,
 "nbformat_minor": 2
}
