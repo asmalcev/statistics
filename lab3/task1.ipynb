{
 "cells": [
  {
   "cell_type": "markdown",
   "metadata": {},
   "source": [
    "### Функция Randu"
   ]
  },
  {
   "cell_type": "code",
   "execution_count": 5,
   "metadata": {},
   "outputs": [],
   "source": [
    "def randu(r1, size=10):\n",
    "\tsize += 1\n",
    "\n",
    "\tB = 65539\n",
    "\tO = 0\n",
    "\tP = 2 ** 31\n",
    "\t\n",
    "\tr = []\n",
    "\n",
    "\trn = r1\n",
    "\tfor i in range(0, size):\n",
    "\t\trn1 = (B * rn + O) % P\n",
    "\t\tr.append(1.0 * rn1 / P)\n",
    "\t\trn = rn1\n",
    "\n",
    "\treturn r"
   ]
  },
  {
   "cell_type": "markdown",
   "metadata": {},
   "source": [
    "# Распределение Эрланга"
   ]
  },
  {
   "cell_type": "code",
   "execution_count": 12,
   "metadata": {},
   "outputs": [
    {
     "data": {
      "image/png": "[encoded data removed]",
      "text/plain": [
       "<Figure size 432x288 with 1 Axes>"
      ]
     },
     "metadata": {
      "needs_background": "light"
     },
     "output_type": "display_data"
    }
   ],
   "source": [
    "import numpy as np\n",
    "import matplotlib.pyplot as plt\n",
    "%matplotlib inline\n",
    "\n",
    "A = 100\n",
    "B = 1\n",
    "\n",
    "seed = 19510\n",
    "r = randu(seed, A)\n",
    "\n",
    "# gamma\n",
    "x = []\n",
    "pr = r[0]\n",
    "for i in range(0, A):\n",
    "\tpr *= r[i + 1]\n",
    "\txi = -B * np.log(pr)\n",
    "\tx.append(xi)\n",
    "\n",
    "# expon\n",
    "# x = -1 / B * np.log( r )\n",
    "\n",
    "plt.hist(x, 20)\n",
    "plt.show()"
   ]
  },
  {
   "cell_type": "code",
   "execution_count": 14,
   "metadata": {},
   "outputs": [
    {
     "data": {
      "image/png": "[encoded data removed]",
      "text/plain": [
       "<Figure size 432x288 with 1 Axes>"
      ]
     },
     "metadata": {
      "needs_background": "light"
     },
     "output_type": "display_data"
    }
   ],
   "source": [
    "k = 1\n",
    "_x =  np.sort(np.random.gamma(k, size=100))\n",
    "# _x =  np.sort(np.random.exponential(k, size=100))\n",
    "\n",
    "plt.hist(_x, 20)\n",
    "plt.show()"
   ]
  }
 ],
 "metadata": {
  "interpreter": {
   "hash": "285a8aba9e28511143ba2906ccaf41ea988f11f9c3887cfdbaf10fce846c0e9f"
  },
  "kernelspec": {
   "display_name": "Python 3.8.10 ('env': venv)",
   "language": "python",
   "name": "python3"
  },
  "language_info": {
   "codemirror_mode": {
    "name": "ipython",
    "version": 3
   },
   "file_extension": ".py",
   "mimetype": "text/x-python",
   "name": "python",
   "nbconvert_exporter": "python",
   "pygments_lexer": "ipython3",
   "version": "3.8.10"
  },
  "orig_nbformat": 4
 },
 "nbformat": 4,
 "nbformat_minor": 2
}
