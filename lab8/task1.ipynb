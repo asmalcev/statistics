{
 "cells": [
  {
   "cell_type": "code",
   "execution_count": 20,
   "metadata": {},
   "outputs": [],
   "source": [
    "import numpy as np\n",
    "from scipy.stats import binom, norm, mannwhitneyu\n",
    "\n",
    "ɑ = 0.05\n",
    "\n",
    "data = np.array([\n",
    "\t[1972, 1973, 1974, 1975, 1976, 1977, 1978, 1979, 1980],\n",
    "\t[20, 17.9, 20.6, 22.0, 21.4, 23.8, 21.4, 19.8, 18.4],\n",
    "\t[22.1, 18.5, 19.4, 22.1, 21.7, 24.9, 21.6, 20.3, 18.3]\n",
    "])"
   ]
  },
  {
   "cell_type": "code",
   "execution_count": 21,
   "metadata": {},
   "outputs": [
    {
     "name": "stdout",
     "output_type": "stream",
     "text": [
      "[ 2.1  0.6 -1.2  0.1  0.3  1.1  0.2  0.5 -0.1]\n",
      "[1 1 0 1 1 1 1 1 0]\n"
     ]
    }
   ],
   "source": [
    "z = data[2] - data[1]\n",
    "Ψ = np.fromiter(\n",
    "\tfilter(\n",
    "\t\tlambda x: x is not None,\n",
    "\t\tmap(\n",
    "\t\t\tlambda x: 1 if x > 0 else 0 if x < 0 else None,\n",
    "\t\t\tz\n",
    "\t\t)\n",
    "\t),\n",
    "\tdtype=int\n",
    ")\n",
    "\n",
    "print(z, Ψ, sep='\\n')"
   ]
  },
  {
   "cell_type": "code",
   "execution_count": 22,
   "metadata": {},
   "outputs": [
    {
     "name": "stdout",
     "output_type": "stream",
     "text": [
      "n = 9 B = 7 p = 0.5\n",
      "\n",
      "ɑ1 = 0.025 β = 0.975\n",
      "\n",
      "b = 7.0 b1 = 2.0\n"
     ]
    }
   ],
   "source": [
    "n = len(Ψ)\n",
    "B = sum(Ψ)\n",
    "p = 0.5\n",
    "print('n =', n, 'B =', B, 'p =', p)\n",
    "\n",
    "ɑ1 = ɑ / 2\n",
    "β = 1 - ɑ1\n",
    "print('\\nɑ1 =', ɑ1, 'β =', β)\n",
    "\n",
    "b = binom.ppf(β, n, p)\n",
    "b1 = binom.ppf(ɑ1, n, p)\n",
    "\n",
    "print('\\nb =', b, 'b1 =', b1)"
   ]
  },
  {
   "cell_type": "code",
   "execution_count": 23,
   "metadata": {},
   "outputs": [
    {
     "name": "stdout",
     "output_type": "stream",
     "text": [
      "Принять\n"
     ]
    }
   ],
   "source": [
    "if B > b:\n",
    "\tprint('Отклонить')\n",
    "else:\n",
    "\tprint('Принять')"
   ]
  },
  {
   "cell_type": "code",
   "execution_count": 24,
   "metadata": {},
   "outputs": [
    {
     "name": "stdout",
     "output_type": "stream",
     "text": [
      "zleft = -1.959963984540054 zright = 1.959963984540054\n",
      "arm = 2.066175243618935 p_value = 0.019405967766635612\n"
     ]
    }
   ],
   "source": [
    "zright = norm.ppf(β, 0, 1)\n",
    "zleft = -zright\n",
    "\n",
    "print('zleft =', zleft, 'zright =', zright)\n",
    "\n",
    "arm = ((4 * B  + 3) * (1 - p)) ** 0.5 - ((4 * n - 4 * B - 1) * p) ** 0.5\n",
    "p_value = 1 - norm.cdf(arm, 0, 1)\n",
    "\n",
    "print('arm =', arm, 'p_value =', p_value)"
   ]
  },
  {
   "cell_type": "code",
   "execution_count": 25,
   "metadata": {},
   "outputs": [
    {
     "name": "stdout",
     "output_type": "stream",
     "text": [
      "stat = 33.0 p = 0.5360784440711384\n",
      "MT = 22.5 DT = 71.25 T1 = 1.2439326432940938\n",
      "Принять\n"
     ]
    }
   ],
   "source": [
    "stat, p = mannwhitneyu(data[1], data[2])\n",
    "print('stat =', stat, 'p =', p)\n",
    "\n",
    "MT = n * (n + 1) / 4\n",
    "DT = MT * (2 * n + 1) / 6\n",
    "T1 = (stat - MT) / DT ** 0.5\n",
    "\n",
    "print('MT =', MT, 'DT =', DT, 'T1 =', T1)\n",
    "\n",
    "if p > ɑ:\n",
    "\tprint('Принять')\n",
    "else:\n",
    "\tprint('Отклонить')"
   ]
  }
 ],
 "metadata": {
  "interpreter": {
   "hash": "285a8aba9e28511143ba2906ccaf41ea988f11f9c3887cfdbaf10fce846c0e9f"
  },
  "kernelspec": {
   "display_name": "Python 3.8.10 ('env': venv)",
   "language": "python",
   "name": "python3"
  },
  "language_info": {
   "codemirror_mode": {
    "name": "ipython",
    "version": 3
   },
   "file_extension": ".py",
   "mimetype": "text/x-python",
   "name": "python",
   "nbconvert_exporter": "python",
   "pygments_lexer": "ipython3",
   "version": "3.8.10"
  },
  "orig_nbformat": 4
 },
 "nbformat": 4,
 "nbformat_minor": 2
}
