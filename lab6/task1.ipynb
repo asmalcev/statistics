{
 "cells": [
  {
   "cell_type": "code",
   "execution_count": 78,
   "metadata": {},
   "outputs": [],
   "source": [
    "import numpy as np\n",
    "from scipy.stats import expon, chi2\n",
    "import statistics as st\n",
    "from math import exp\n",
    "%matplotlib inline\n",
    "\n",
    "LOC = 0\n",
    "SCALE = 5\n",
    "N = 100\n",
    "L = 10\n",
    "\n",
    "ɑ = 0.1\n",
    "\n",
    "rng = np.random.default_rng(81381)\n",
    "dist = LOC + rng.exponential(scale=SCALE, size=N)"
   ]
  },
  {
   "cell_type": "markdown",
   "metadata": {},
   "source": [
    "# Критерий Χ^2 Пирсона"
   ]
  },
  {
   "cell_type": "code",
   "execution_count": 79,
   "metadata": {},
   "outputs": [
    {
     "name": "stdout",
     "output_type": "stream",
     "text": [
      "Гипотеза H0 отвергается с заданным уровнем значимости\n"
     ]
    }
   ],
   "source": [
    "# def interval(hist, bin_centers):\n",
    "# \tn = len(hist)\n",
    "# \tk = n // 2\n",
    "\n",
    "# \tfor i in range(0, k):\n",
    "# \t\tj = n - i - 1\n",
    "\t\t\n",
    "# \t\tif hist[i] <= 5:\n",
    "# \t\t\tbin_centers[i + 1] = bin_centers[i]\n",
    "# \t\t\thist[i + 1] += hist[i]\n",
    "# \t\t\thist[i] = 0\n",
    "\t\t\n",
    "# \t\tif i == j:\n",
    "# \t\t\tbreak\n",
    "\n",
    "# \t\tif hist[j] <= 5:\n",
    "# \t\t\tbin_centers[j - 1] = bin_centers[j]\n",
    "# \t\t\thist[j - 1] += hist[j]\n",
    "# \t\t\thist[j] = 0\n",
    "\n",
    "# \t_k = 0\n",
    "# \t_hist = []\n",
    "# \t_bin_centers = []\n",
    "# \tfor i in range(0, k):\n",
    "# \t\tif hist[i] > 0:\n",
    "# \t\t\t_k += 1\n",
    "# \t\t\t_hist.append(hist[i])\n",
    "# \t\t\t_bin_centers.append(bin_centers[i])\n",
    "\t\n",
    "# \treturn (np.array(_hist), np.array(_bin_centers), _k)\n",
    "\n",
    "\n",
    "def chi2_pirson():\n",
    "\tk = L\n",
    "\thist, bin_edges = np.histogram(dist, bins=k)\n",
    "\tbin_centers = bin_edges[:-1] + np.diff(bin_edges) / 2\n",
    "\n",
    "\tmx = 1 / N * sum([hist[i] * bin_centers[i] for i in range(0, k)])\n",
    "\tDx = 1 / (N - 1) * sum(\n",
    "\t\t[hist[i] * pow(bin_centers[i] - mx, 2) for i in range(0, k)]\n",
    "\t)\n",
    "\tσ = pow(Dx, 0.5)\n",
    "\n",
    "\tz = abs(bin_centers - mx) / σ\n",
    "\t_np = N * (bin_edges[1] - bin_edges[0]) / σ * expon.pdf(z)\n",
    "\n",
    "\t_chi2 = sum(pow(hist - _np, 2) / _np)\n",
    "\n",
    "\treturn (_chi2, len(_np), mx, Dx, σ)\n",
    "\n",
    "\n",
    "(X_obs, k, mx, Dx, σ) = chi2_pirson()\n",
    "X_exp = chi2.ppf(1 - ɑ, k - 3)\n",
    "\n",
    "if X_obs < X_exp:\n",
    "\tprint('Гипотеза H0 принимается с заданным уровнем значимости')\n",
    "else:\n",
    "\tprint('Гипотеза H0 отвергается с заданным уровнем значимости')"
   ]
  },
  {
   "cell_type": "markdown",
   "metadata": {},
   "source": [
    "# Критерий Колмогорова"
   ]
  },
  {
   "cell_type": "code",
   "execution_count": 87,
   "metadata": {},
   "outputs": [
    {
     "name": "stdout",
     "output_type": "stream",
     "text": [
      "Гипотеза H0 принимается с заданным уровнем значимости\n"
     ]
    }
   ],
   "source": [
    "def kolm():\n",
    "\tx = np.sort(dist)\n",
    "\tmx = st.mean(x)\n",
    "\tDx = st.variance(x)\n",
    "\tσ = st.stdev(x)\n",
    "\n",
    "\tp = []\n",
    "\tfor i in range(0, N):\n",
    "\t\tp.append( expon.cdf(x[i], scale=mx) )\n",
    "\t\tx[i] = 1 / N - p[i]\n",
    "\t\tp[i] = p[i] - (i - 1) / N\n",
    "\tp = np.array(p)\n",
    "\n",
    "\t_x = np.stack([x, p])\n",
    "\t\n",
    "\treturn _x.max() * pow(N, 0.5)\n",
    "\n",
    "D_obs = kolm()\n",
    "\n",
    "arg = []\n",
    "x1 = []\n",
    "for i in range(1, 20):\n",
    "\targ.append(0.1 * i)\n",
    "\tx1.append(1 + 2 * sum([pow(-1, j) * exp(-2 * pow(j, 2) * pow(arg[i - 1], 2)) for j in range(1, 100)]))\n",
    "\n",
    "D_kp = np.interp(1 - ɑ, x1, arg)\n",
    "\n",
    "if D_obs < D_kp:\n",
    "\tprint('Гипотеза H0 принимается с заданным уровнем значимости')\n",
    "else:\n",
    "\tprint('Гипотеза H0 отвергается с заданным уровнем значимости')"
   ]
  }
 ],
 "metadata": {
  "interpreter": {
   "hash": "285a8aba9e28511143ba2906ccaf41ea988f11f9c3887cfdbaf10fce846c0e9f"
  },
  "kernelspec": {
   "display_name": "Python 3.8.10 ('env': venv)",
   "language": "python",
   "name": "python3"
  },
  "language_info": {
   "codemirror_mode": {
    "name": "ipython",
    "version": 3
   },
   "file_extension": ".py",
   "mimetype": "text/x-python",
   "name": "python",
   "nbconvert_exporter": "python",
   "pygments_lexer": "ipython3",
   "version": "3.8.10"
  },
  "orig_nbformat": 4
 },
 "nbformat": 4,
 "nbformat_minor": 2
}
