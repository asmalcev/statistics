{
 "cells": [
  {
   "cell_type": "code",
   "execution_count": 52,
   "metadata": {},
   "outputs": [],
   "source": [
    "import numpy as np\n",
    "import matplotlib.pyplot as plt\n",
    "from scipy.stats import expon, chi2\n",
    "import statistics as st\n",
    "%matplotlib inline\n",
    "\n",
    "LOC = 0\n",
    "SCALE = 5\n",
    "N = 100\n",
    "L = 10\n",
    "\n",
    "ɑ = 0.1\n",
    "\n",
    "rng = np.random.default_rng(81381)\n",
    "dist = LOC + rng.exponential(scale=SCALE, size=N)"
   ]
  },
  {
   "cell_type": "markdown",
   "metadata": {},
   "source": [
    "# Критерий Χ^2 Пирсона"
   ]
  },
  {
   "cell_type": "code",
   "execution_count": 54,
   "metadata": {},
   "outputs": [
    {
     "name": "stdout",
     "output_type": "stream",
     "text": [
      "62.35990444889791\n",
      "(5.731496902589677, 32.23936101544494, 5.677971558175062)\n",
      "5.326778188251635 33.416027553602184 5.780659785318816\n"
     ]
    }
   ],
   "source": [
    "def chi2_pirson():\n",
    "\thist, bin_edges = np.histogram(dist, bins=L)\n",
    "\tbin_centers = bin_edges[:-1] + np.diff(bin_edges) / 2\n",
    "\n",
    "\tmx = 1 / N * sum([hist[i] * bin_centers[i] for i in range(0, L)])\n",
    "\tDx = 1 / (N - 1) * sum(\n",
    "\t\t[hist[i] * pow(bin_centers[i] - mx, 2) for i in range(0, L)]\n",
    "\t)\n",
    "\tσ = pow(Dx, 0.5)\n",
    "\n",
    "\tz = abs(bin_centers - mx) / σ\n",
    "\t_np = N * (bin_edges[1] - bin_edges[0]) / σ * expon.pdf(z)\n",
    "\n",
    "\t_chi2 = sum(pow(hist - _np, 2) / _np)\n",
    "\tprint(_chi2)\n",
    "\n",
    "\treturn (mx, Dx, σ)\n",
    "\n",
    "\n",
    "print( chi2_pirson() )\n",
    "print(\n",
    "\tst.mean(dist),\n",
    "\tst.variance(dist),\n",
    "\tst.stdev(dist)\n",
    ")"
   ]
  }
 ],
 "metadata": {
  "interpreter": {
   "hash": "285a8aba9e28511143ba2906ccaf41ea988f11f9c3887cfdbaf10fce846c0e9f"
  },
  "kernelspec": {
   "display_name": "Python 3.8.10 ('env': venv)",
   "language": "python",
   "name": "python3"
  },
  "language_info": {
   "codemirror_mode": {
    "name": "ipython",
    "version": 3
   },
   "file_extension": ".py",
   "mimetype": "text/x-python",
   "name": "python",
   "nbconvert_exporter": "python",
   "pygments_lexer": "ipython3",
   "version": "3.8.10"
  },
  "orig_nbformat": 4
 },
 "nbformat": 4,
 "nbformat_minor": 2
}
