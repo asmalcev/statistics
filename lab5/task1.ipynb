{
 "cells": [
  {
   "cell_type": "markdown",
   "metadata": {},
   "source": [
    "# Проверка статистических гипотез о числовых значениях нормальных распределений"
   ]
  },
  {
   "cell_type": "code",
   "execution_count": 1,
   "metadata": {},
   "outputs": [],
   "source": [
    "import numpy as np\n",
    "import matplotlib.pyplot as plt\n",
    "from scipy.stats import expon\n",
    "%matplotlib inline\n",
    "\n",
    "mX = 7\n",
    "mY = mX + 1.5\n",
    "DX = 7\n",
    "DY = DX + 3\n",
    "NX = 50\n",
    "NY = 100\n",
    "\n",
    "rng = np.random.default_rng(92621)\n",
    "dist1 = rng.normal(loc=mY, scale=DY, size=NX)\n",
    "dist2 = rng.normal(loc=mY, scale=DY, size=NY)"
   ]
  }
 ],
 "metadata": {
  "interpreter": {
   "hash": "285a8aba9e28511143ba2906ccaf41ea988f11f9c3887cfdbaf10fce846c0e9f"
  },
  "kernelspec": {
   "display_name": "Python 3.8.10 ('env': venv)",
   "language": "python",
   "name": "python3"
  },
  "language_info": {
   "codemirror_mode": {
    "name": "ipython",
    "version": 3
   },
   "file_extension": ".py",
   "mimetype": "text/x-python",
   "name": "python",
   "nbconvert_exporter": "python",
   "pygments_lexer": "ipython3",
   "version": "3.8.10"
  },
  "orig_nbformat": 4
 },
 "nbformat": 4,
 "nbformat_minor": 2
}
