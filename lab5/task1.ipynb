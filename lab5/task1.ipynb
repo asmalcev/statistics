{
 "cells": [
  {
   "cell_type": "markdown",
   "metadata": {},
   "source": [
    "# Проверка статистических гипотез о числовых значениях нормальных распределений"
   ]
  },
  {
   "cell_type": "code",
   "execution_count": 10,
   "metadata": {},
   "outputs": [],
   "source": [
    "import numpy as np\n",
    "from scipy.stats import norm, t, chi2, f\n",
    "import statistics as st\n",
    "%matplotlib inline\n",
    "\n",
    "mX = 7\n",
    "mY = mX + 1.5\n",
    "DX = 7\n",
    "DY = DX + 3\n",
    "NX = 50\n",
    "NY = 100\n",
    "\n",
    "rng = np.random.default_rng(92621)\n",
    "norm_dist1 = rng.normal(loc=mX, scale=pow(DX, 0.5), size=NX)\n",
    "norm_dist2 = rng.normal(loc=mY, scale=pow(DY, 0.5), size=NY)\n",
    "\n",
    "ɑ = 0.1"
   ]
  },
  {
   "cell_type": "markdown",
   "metadata": {},
   "source": [
    "### Проверка гипотезы о числовом значении математического ожидания нормального распределения при известной дисперсии"
   ]
  },
  {
   "cell_type": "code",
   "execution_count": 11,
   "metadata": {},
   "outputs": [
    {
     "name": "stdout",
     "output_type": "stream",
     "text": [
      "xmean = 7.046553838690683\n",
      "xright = -0.12566134685507402 xleft = 0.12566134685507402\n",
      "zb = 0.1244203674426272\n"
     ]
    }
   ],
   "source": [
    "xmean = st.mean(norm_dist1)\n",
    "print('xmean =', xmean)\n",
    "\n",
    "xright = norm.ppf((1 - ɑ) / 2, 0, 1)\n",
    "xleft = -xright\n",
    "print('xright =', xright, 'xleft =', xleft)\n",
    "\n",
    "zb = (xmean - mX) / pow(DX / NX, 0.5)\n",
    "print('zb =', zb)"
   ]
  },
  {
   "cell_type": "markdown",
   "metadata": {},
   "source": [
    "Гипотеза  H0 принимается, т.к. xleft < zb < xright"
   ]
  },
  {
   "cell_type": "markdown",
   "metadata": {},
   "source": [
    "### Проверка гипотезы о числовом значении математического ожидания нормального распределения при неизвестной дисперсии"
   ]
  },
  {
   "cell_type": "code",
   "execution_count": 12,
   "metadata": {},
   "outputs": [
    {
     "name": "stdout",
     "output_type": "stream",
     "text": [
      "Dx = 7.289008589758063\n",
      "xright = 1.2990687845090696\n",
      "zb = 0.12192879129620963\n"
     ]
    }
   ],
   "source": [
    "Dx = NX / (NX - 1) * st.variance(norm_dist1)\n",
    "print('Dx =', Dx)\n",
    "\n",
    "xright = t.ppf(1 - ɑ, NX - 1)\n",
    "print('xright =', xright)\n",
    "\n",
    "zb = (xmean - mX) / pow(Dx / NX, 0.5)\n",
    "print('zb =', zb)"
   ]
  },
  {
   "cell_type": "markdown",
   "metadata": {},
   "source": [
    "Гипотеза H0 принимается, т.к. zb < xright"
   ]
  },
  {
   "cell_type": "markdown",
   "metadata": {},
   "source": [
    "### Проверка гипотезы о числовом значении дисперсии нормального распределения"
   ]
  },
  {
   "cell_type": "code",
   "execution_count": 13,
   "metadata": {},
   "outputs": [
    {
     "name": "stdout",
     "output_type": "stream",
     "text": [
      "xleft = 36.81821727017282\n",
      "zb = 51.02306012830644\n"
     ]
    }
   ],
   "source": [
    "xleft = chi2.ppf(ɑ, NX - 1)\n",
    "print('xleft =', xleft)\n",
    "\n",
    "zb = (NX - 1) * Dx / DX\n",
    "print('zb =', zb)"
   ]
  },
  {
   "cell_type": "markdown",
   "metadata": {},
   "source": [
    "Гипотеза H0 принимается, т.к. zb > xleft"
   ]
  },
  {
   "cell_type": "markdown",
   "metadata": {},
   "source": [
    "### Проверка гипотезы о равенстве математических ожиданий двух нормальных распределений с известными дисперсиями"
   ]
  },
  {
   "cell_type": "code",
   "execution_count": 14,
   "metadata": {},
   "outputs": [
    {
     "name": "stdout",
     "output_type": "stream",
     "text": [
      "xleft = -1.2815515655446004\n",
      "ymean = 7.939065839361698\n",
      "zb = -1.8218324924621188\n"
     ]
    }
   ],
   "source": [
    "xleft = norm.ppf(ɑ, 0, 1)\n",
    "print('xleft =', xleft)\n",
    "\n",
    "ymean = st.mean(norm_dist2)\n",
    "print('ymean =', ymean)\n",
    "\n",
    "zb = (xmean - ymean) / pow(DX / NX + DY / NY, 0.5)\n",
    "print('zb =', zb)"
   ]
  },
  {
   "cell_type": "markdown",
   "metadata": {},
   "source": [
    "Гипотеза H0 с уровнем занчимости ɑ = 0.1 не принимается, т.к. zb < xleft"
   ]
  },
  {
   "cell_type": "markdown",
   "metadata": {},
   "source": [
    "### Проверка гипотезы о равенстве математических ожиданий двух нормальных распределений с неизвестными, но равными дисперсиями"
   ]
  },
  {
   "cell_type": "code",
   "execution_count": 15,
   "metadata": {},
   "outputs": [
    {
     "name": "stdout",
     "output_type": "stream",
     "text": [
      "Dy = 10.406265883367093\n",
      "xright = 1.2872978760533922\n",
      "zb = -1.6830084908556258\n"
     ]
    }
   ],
   "source": [
    "Dy = NY / (NY - 1) * st.variance(norm_dist2)\n",
    "print('Dy =', Dy)\n",
    "\n",
    "xright = t.ppf(1 - ɑ, NX + NY - 2)\n",
    "print('xright =', xright)\n",
    "\n",
    "zb = (xmean - ymean) / pow((1 / NX + 1 / NY) * ((NX - 1) * Dx + (NY - 1) * Dy) / (NX + NY - 2), 0.5)\n",
    "print('zb =', zb)"
   ]
  },
  {
   "cell_type": "markdown",
   "metadata": {},
   "source": [
    "Гипотеза H0 принимается, т.к. zb < xright"
   ]
  },
  {
   "cell_type": "markdown",
   "metadata": {},
   "source": [
    "### Проверка гипотезы о равенстве дисперсий двух нормальных распределений"
   ]
  },
  {
   "cell_type": "code",
   "execution_count": 19,
   "metadata": {},
   "outputs": [
    {
     "name": "stdout",
     "output_type": "stream",
     "text": [
      "xleft = 0.6531684057858803\n",
      "xright = 1.4816718677226575\n",
      "xb = 0.7004442007779645\n"
     ]
    }
   ],
   "source": [
    "xleft = f.ppf(ɑ / 2, NX - 1, NY - 1)\n",
    "print('xleft =', xleft)\n",
    "\n",
    "xright = f.ppf(1 - ɑ / 2, NX - 1, NY - 1)\n",
    "print('xright =', xright)\n",
    "\n",
    "zb = Dx / Dy\n",
    "print('zb =', zb)"
   ]
  },
  {
   "cell_type": "markdown",
   "metadata": {},
   "source": [
    "Гипотеза H0 принимается, т.к. xleft < zb < xright"
   ]
  }
 ],
 "metadata": {
  "interpreter": {
   "hash": "285a8aba9e28511143ba2906ccaf41ea988f11f9c3887cfdbaf10fce846c0e9f"
  },
  "kernelspec": {
   "display_name": "Python 3.8.10 ('env': venv)",
   "language": "python",
   "name": "python3"
  },
  "language_info": {
   "codemirror_mode": {
    "name": "ipython",
    "version": 3
   },
   "file_extension": ".py",
   "mimetype": "text/x-python",
   "name": "python",
   "nbconvert_exporter": "python",
   "pygments_lexer": "ipython3",
   "version": "3.8.10"
  },
  "orig_nbformat": 4
 },
 "nbformat": 4,
 "nbformat_minor": 2
}
